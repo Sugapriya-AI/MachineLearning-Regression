{
 "cells": [
  {
   "cell_type": "code",
   "execution_count": 1,
   "id": "48923102-bc21-4188-bc03-75b3897b15fe",
   "metadata": {},
   "outputs": [],
   "source": [
    "# Import Libraries\n",
    "import pickle\n",
    "import pandas as pd"
   ]
  },
  {
   "cell_type": "code",
   "execution_count": 2,
   "id": "fc997628-b81d-4bf7-b672-ab3fc7ed674b",
   "metadata": {},
   "outputs": [],
   "source": [
    "# Load the Saved Model\n",
    "loaded_model=pickle.load(open(\"6.2Final-Model-LightGradientBoost.sav\", 'rb'))\n",
    "input_data = pd.DataFrame({ 'age':[32], 'bmi':[23], 'children':[1],'sex_male':[False], 'smoker_yes':[False]})\n",
    "result = loaded_model.predict(input_data)"
   ]
  },
  {
   "cell_type": "code",
   "execution_count": 3,
   "id": "2582b13e-6941-4ef9-96a5-5b9d068b306c",
   "metadata": {},
   "outputs": [
    {
     "data": {
      "text/plain": [
       "array([5589.03940806])"
      ]
     },
     "execution_count": 3,
     "metadata": {},
     "output_type": "execute_result"
    }
   ],
   "source": [
    "result"
   ]
  },
  {
   "cell_type": "code",
   "execution_count": null,
   "id": "4ca95229-e64a-41f1-8001-73e770c589ad",
   "metadata": {},
   "outputs": [],
   "source": []
  }
 ],
 "metadata": {
  "kernelspec": {
   "display_name": "Python [conda env:base] *",
   "language": "python",
   "name": "conda-base-py"
  },
  "language_info": {
   "codemirror_mode": {
    "name": "ipython",
    "version": 3
   },
   "file_extension": ".py",
   "mimetype": "text/x-python",
   "name": "python",
   "nbconvert_exporter": "python",
   "pygments_lexer": "ipython3",
   "version": "3.12.7"
  }
 },
 "nbformat": 4,
 "nbformat_minor": 5
}

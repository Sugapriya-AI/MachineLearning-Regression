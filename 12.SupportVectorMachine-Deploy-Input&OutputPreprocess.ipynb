{
 "cells": [
  {
   "cell_type": "code",
   "execution_count": 1,
   "id": "ae791b72-18c0-45e0-a353-24085e458ffb",
   "metadata": {},
   "outputs": [],
   "source": [
    "# Include Libraries\n",
    "import pickle\n",
    "import pandas as pd"
   ]
  },
  {
   "cell_type": "code",
   "execution_count": 2,
   "id": "552604ac-ea96-47f0-af06-049a207a8a98",
   "metadata": {},
   "outputs": [],
   "source": [
    "dataset=pd.read_csv(\"Insurance-Data.csv\")\n",
    "dataset=pd.get_dummies(dataset,drop_first=True)\n",
    "independent=dataset[['age', 'bmi', 'children','sex_male','smoker_yes']]\n",
    "dependent=dataset[['charges']]"
   ]
  },
  {
   "cell_type": "code",
   "execution_count": 3,
   "id": "058af622-e6db-4406-9829-047b0958d959",
   "metadata": {},
   "outputs": [],
   "source": [
    "# Standardization\n",
    "# Preprocessing Input\n",
    "from sklearn.preprocessing import StandardScaler\n",
    "sc=StandardScaler()\n",
    "independent=sc.fit_transform(independent)"
   ]
  },
  {
   "cell_type": "code",
   "execution_count": 4,
   "id": "55434519-9dbc-46e2-8e4b-a8a15f4c8485",
   "metadata": {},
   "outputs": [],
   "source": [
    "# Preprocessing Output\n",
    "scy=StandardScaler()\n",
    "dependent=scy.fit_transform(dependent)\n"
   ]
  },
  {
   "cell_type": "code",
   "execution_count": 5,
   "id": "517d8b4a-00d3-4000-b791-29420f2a7020",
   "metadata": {},
   "outputs": [
    {
     "name": "stderr",
     "output_type": "stream",
     "text": [
      "/opt/anaconda3/lib/python3.12/site-packages/sklearn/base.py:493: UserWarning: X does not have valid feature names, but StandardScaler was fitted with feature names\n",
      "  warnings.warn(\n"
     ]
    }
   ],
   "source": [
    "# Giving Input\n",
    "preinput=sc.transform([[32,23,1,1,1]])"
   ]
  },
  {
   "cell_type": "code",
   "execution_count": 6,
   "id": "23a0c2a3-a5a3-48a5-b1d5-f4c6d0901e9a",
   "metadata": {},
   "outputs": [
    {
     "data": {
      "text/plain": [
       "array([[-0.51314879, -1.25713795, -0.07876719,  0.98959079,  1.97058663]])"
      ]
     },
     "execution_count": 6,
     "metadata": {},
     "output_type": "execute_result"
    }
   ],
   "source": [
    "preinput"
   ]
  },
  {
   "cell_type": "code",
   "execution_count": 7,
   "id": "046a93d7-496b-424b-8584-2eea7f225b5f",
   "metadata": {},
   "outputs": [],
   "source": [
    "# Load the Saved model and Predicts Output\n",
    "loaded_model = pickle.load(open(\"12.Final-Model-SVM-Input&OutputPreprocess.sav\", 'rb'))\n",
    "result = loaded_model.predict(preinput)"
   ]
  },
  {
   "cell_type": "code",
   "execution_count": 8,
   "id": "f41c630c-d3ea-4752-b036-f40c3b7400ce",
   "metadata": {},
   "outputs": [
    {
     "data": {
      "text/plain": [
       "array([-0.00034067])"
      ]
     },
     "execution_count": 8,
     "metadata": {},
     "output_type": "execute_result"
    }
   ],
   "source": [
    "result"
   ]
  },
  {
   "cell_type": "code",
   "execution_count": 9,
   "id": "fb463494-3e78-41c2-9706-3b813d082dbe",
   "metadata": {},
   "outputs": [],
   "source": [
    "# Inverse the Preprocessed Output\n",
    "preoutput=scy.inverse_transform([result])"
   ]
  },
  {
   "cell_type": "code",
   "execution_count": 10,
   "id": "4a58938f-e3d3-4940-a741-3316bef31b31",
   "metadata": {},
   "outputs": [
    {
     "data": {
      "text/plain": [
       "array([[13266.2982996]])"
      ]
     },
     "execution_count": 10,
     "metadata": {},
     "output_type": "execute_result"
    }
   ],
   "source": [
    "preoutput"
   ]
  },
  {
   "cell_type": "code",
   "execution_count": null,
   "id": "cebc1080-dd3a-4db4-bfca-ce24d8e4c5a4",
   "metadata": {},
   "outputs": [],
   "source": []
  }
 ],
 "metadata": {
  "kernelspec": {
   "display_name": "Python [conda env:base] *",
   "language": "python",
   "name": "conda-base-py"
  },
  "language_info": {
   "codemirror_mode": {
    "name": "ipython",
    "version": 3
   },
   "file_extension": ".py",
   "mimetype": "text/x-python",
   "name": "python",
   "nbconvert_exporter": "python",
   "pygments_lexer": "ipython3",
   "version": "3.12.7"
  }
 },
 "nbformat": 4,
 "nbformat_minor": 5
}

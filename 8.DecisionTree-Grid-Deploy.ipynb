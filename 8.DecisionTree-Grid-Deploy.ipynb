{
 "cells": [
  {
   "cell_type": "code",
   "execution_count": 1,
   "id": "a0c969ab-b71a-4f24-a2b2-150e20364214",
   "metadata": {},
   "outputs": [],
   "source": [
    "# Import Libraries\n",
    "import pickle\n",
    "import pandas as pd"
   ]
  },
  {
   "cell_type": "code",
   "execution_count": 2,
   "id": "ab8e0756-cdd0-41e8-baff-7842fea391ba",
   "metadata": {},
   "outputs": [],
   "source": [
    "# Load the Saved Model\n",
    "loaded_model = pickle.load(open(\"8.Final-Model-Grid-DecisionTree.sav\", 'rb'))\n",
    "input_data = pd.DataFrame({ 'age':[32], 'bmi':[23], 'children':[1],'sex_male':[1], 'smoker_yes':[1]})\n",
    "result = loaded_model.predict(input_data)"
   ]
  },
  {
   "cell_type": "code",
   "execution_count": 3,
   "id": "69a3acbc-fcef-41f6-8eec-5743b795ffd6",
   "metadata": {},
   "outputs": [
    {
     "data": {
      "text/plain": [
       "array([17179.522])"
      ]
     },
     "execution_count": 3,
     "metadata": {},
     "output_type": "execute_result"
    }
   ],
   "source": [
    "result"
   ]
  },
  {
   "cell_type": "code",
   "execution_count": null,
   "id": "0ef060b4-1720-47f1-bd7d-67cdd3312a6d",
   "metadata": {},
   "outputs": [],
   "source": []
  }
 ],
 "metadata": {
  "kernelspec": {
   "display_name": "Python [conda env:base] *",
   "language": "python",
   "name": "conda-base-py"
  },
  "language_info": {
   "codemirror_mode": {
    "name": "ipython",
    "version": 3
   },
   "file_extension": ".py",
   "mimetype": "text/x-python",
   "name": "python",
   "nbconvert_exporter": "python",
   "pygments_lexer": "ipython3",
   "version": "3.12.7"
  }
 },
 "nbformat": 4,
 "nbformat_minor": 5
}
